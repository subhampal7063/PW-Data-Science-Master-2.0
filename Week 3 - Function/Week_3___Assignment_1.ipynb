{
  "nbformat": 4,
  "nbformat_minor": 0,
  "metadata": {
    "colab": {
      "provenance": []
    },
    "kernelspec": {
      "name": "python3",
      "display_name": "Python 3"
    },
    "language_info": {
      "name": "python"
    }
  },
  "cells": [
    {
      "cell_type": "markdown",
      "source": [
        "#Q1. Which keyword is used to create a function?\n",
        "#Create a function to return a list of odd numbers in the range of 1 to 25.\n",
        "Ans 1:\n",
        "\n",
        "The keyword used to create a function is \"def\".\n",
        "\n",
        "\n",
        "Ans 2:"
      ],
      "metadata": {
        "id": "2X1ap7BMdRwl"
      }
    },
    {
      "cell_type": "code",
      "execution_count": null,
      "metadata": {
        "id": "xdSMw4vsY-wC"
      },
      "outputs": [],
      "source": [
        "def odd_Num_Between_1to25():\n",
        "  for i in range(1,26,2):\n",
        "    print(i)"
      ]
    },
    {
      "cell_type": "code",
      "source": [
        "odd_Num_Between_1to25()"
      ],
      "metadata": {
        "colab": {
          "base_uri": "https://localhost:8080/"
        },
        "id": "1vjwMXDDdw5Y",
        "outputId": "176cc796-d2e6-46f7-a13b-36bb540a52a2"
      },
      "execution_count": null,
      "outputs": [
        {
          "output_type": "stream",
          "name": "stdout",
          "text": [
            "1\n",
            "3\n",
            "5\n",
            "7\n",
            "9\n",
            "11\n",
            "13\n",
            "15\n",
            "17\n",
            "19\n",
            "21\n",
            "23\n",
            "25\n"
          ]
        }
      ]
    },
    {
      "cell_type": "markdown",
      "source": [
        "# Q2. Why *args and **kwargs is used in some functions? Create a function each for *args and **kwargs to demonstrate their use.\n",
        "\n",
        "Ans:\n",
        "\n",
        "***args and ****kwargs** are used to pass a variable number of arguments to a function.\n",
        "\n",
        "***args** = The *args syntax allows a function to accept a variable number of positional arguments\n",
        "\n",
        "****kwargs** = **kwargs syntax allows a function to accept a variable number of keyword arguments."
      ],
      "metadata": {
        "id": "_rBCRw2mf_Ui"
      }
    },
    {
      "cell_type": "code",
      "source": [
        "# Example using *args\n",
        "def sum_numbers(*args):\n",
        "    total = 0\n",
        "    for num in args:\n",
        "        total += num\n",
        "    return total\n",
        "\n",
        "result = sum_numbers(1, 2, 3, 4, 5)\n",
        "print(result)  # Output: 15"
      ],
      "metadata": {
        "colab": {
          "base_uri": "https://localhost:8080/"
        },
        "id": "vTJHgeHikpmO",
        "outputId": "2c4c08b2-7610-4735-9c00-d52614319005"
      },
      "execution_count": null,
      "outputs": [
        {
          "output_type": "stream",
          "name": "stdout",
          "text": [
            "15\n"
          ]
        }
      ]
    },
    {
      "cell_type": "code",
      "source": [
        "# Example using **kwargs\n",
        "def print_info(**kwargs):\n",
        "    for key, value in kwargs.items():\n",
        "        print(f\"{key}: {value}\")\n",
        "\n",
        "print_info(name=\"SUBHAM\", age=21, country=\"INDIA\")\n",
        "# Output:\n",
        "# name: SUBHAM\n",
        "# age: 21\n",
        "# country: INDIA\n"
      ],
      "metadata": {
        "colab": {
          "base_uri": "https://localhost:8080/"
        },
        "id": "lzSoU-zilJkt",
        "outputId": "f53cc7ee-78b4-470f-a708-bf3fc88bddfd"
      },
      "execution_count": null,
      "outputs": [
        {
          "output_type": "stream",
          "name": "stdout",
          "text": [
            "name: SUBHAM\n",
            "age: 21\n",
            "country: INDIA\n"
          ]
        }
      ]
    },
    {
      "cell_type": "markdown",
      "source": [
        "#Q3.  What is an iterator in python?\n",
        "#Name the method used to initialise the iterator object and the method used for iteration.\n",
        "#Use these methods to print the first five elements of the given list [2, 4, 6, 8, 10, 12, 14,16, 18, 20].\n",
        "\n",
        "**Ans:** An iterator in Python is an object that implements the iteration. It provides a way to access the elements of a collection sequentially without exposing the underlying implementation details\n",
        "\n",
        "[] = The iter() method is used to initialize the iterator object and the next() method is used for iteration.\n"
      ],
      "metadata": {
        "id": "nL-HR0QSWgiV"
      }
    },
    {
      "cell_type": "code",
      "source": [
        "# Initialize the iterator objject\n",
        "\n",
        "my_list = [2, 4, 6, 8, 10, 12, 14, 16, 18, 20]\n",
        "iterator = iter(my_list)\n",
        "\n",
        "# Iterate over the first five elements\n",
        "for _ in range(5):\n",
        "    print(next(iterator))     #Output = 2,4,6,8,10\n",
        ""
      ],
      "metadata": {
        "colab": {
          "base_uri": "https://localhost:8080/"
        },
        "id": "LY3N7GN0ahWm",
        "outputId": "51a94cfc-72b9-41f2-a2f2-6851b80ea268"
      },
      "execution_count": 2,
      "outputs": [
        {
          "output_type": "stream",
          "name": "stdout",
          "text": [
            "2\n",
            "4\n",
            "6\n",
            "8\n",
            "10\n"
          ]
        }
      ]
    },
    {
      "cell_type": "markdown",
      "source": [],
      "metadata": {
        "id": "c7E4OcyzbaxF"
      }
    },
    {
      "cell_type": "markdown",
      "source": [
        "#Q4.  What is a generator function in python? Why yield keyword is used? Give an example of a generator function.\n",
        "\n",
        "Ans: A generator function in Python is a special type of function that allows you to define an iterator in a more concise and efficient way. It is defined using the def keyword, just like a regular function, but instead of using the \"return\" statement to return a value, it uses the \"yield\" keyword.\n",
        "\n",
        "[] The \"yield\" keyword is used in a generator function to define a value to be returned each time the iterator is iterated over. When a generator function is called, it returns a generator object, which can be iterated over using a for loop or by explicitly calling the next() function on it.\n",
        "\n",
        "[]Example = Generator function of Fibonacci Series"
      ],
      "metadata": {
        "id": "h8uDUNHqba6H"
      }
    },
    {
      "cell_type": "code",
      "source": [
        "def fibonacci_generator():\n",
        "    a, b = 0, 1\n",
        "    while True:\n",
        "        yield a\n",
        "        a, b = b, a + b\n",
        "fib_gen = fibonacci_generator()\n",
        "\n",
        "for i in range(10):\n",
        "    print(next(fib_gen))"
      ],
      "metadata": {
        "colab": {
          "base_uri": "https://localhost:8080/"
        },
        "id": "y2NhmNBxb77a",
        "outputId": "83db159e-9247-4aca-b421-4bd86112f00b"
      },
      "execution_count": 3,
      "outputs": [
        {
          "output_type": "stream",
          "name": "stdout",
          "text": [
            "0\n",
            "1\n",
            "1\n",
            "2\n",
            "3\n",
            "5\n",
            "8\n",
            "13\n",
            "21\n",
            "34\n"
          ]
        }
      ]
    },
    {
      "cell_type": "markdown",
      "source": [
        "#Q5. Create a generator function for prime numbers less than 1000. Use the next() method to print the first 20 prime numbers."
      ],
      "metadata": {
        "id": "QtAax8VjcRx_"
      }
    },
    {
      "cell_type": "code",
      "source": [
        "def prime_generator():\n",
        "    primes = []\n",
        "    num = 2\n",
        "    while True:\n",
        "        if all(num % prime != 0 for prime in primes):\n",
        "            primes.append(num)\n",
        "            yield num\n",
        "        num += 1\n",
        "prime_gen = prime_generator()\n",
        "\n",
        "for _ in range(20):\n",
        "    print(next(prime_gen))"
      ],
      "metadata": {
        "colab": {
          "base_uri": "https://localhost:8080/"
        },
        "id": "UMGkn4K6fvDM",
        "outputId": "327e065a-24c2-46a9-9567-274d581894da"
      },
      "execution_count": 5,
      "outputs": [
        {
          "output_type": "stream",
          "name": "stdout",
          "text": [
            "2\n",
            "3\n",
            "5\n",
            "7\n",
            "11\n",
            "13\n",
            "17\n",
            "19\n",
            "23\n",
            "29\n",
            "31\n",
            "37\n",
            "41\n",
            "43\n",
            "47\n",
            "53\n",
            "59\n",
            "61\n",
            "67\n",
            "71\n"
          ]
        }
      ]
    },
    {
      "cell_type": "markdown",
      "source": [
        "#Q6. Write a python program to print the first 10 Fibonacci numbers using a while loop."
      ],
      "metadata": {
        "id": "cE59_xzijaoV"
      }
    },
    {
      "cell_type": "code",
      "source": [
        "# Program to display the Fibonacci sequence up to n-th term\n",
        "\n",
        "nterms = int(input(\"How many terms? \"))\n",
        "\n",
        "# first two terms\n",
        "n1, n2 = 0, 1\n",
        "count = 0\n",
        "\n",
        "# check if the number of terms is valid\n",
        "if nterms <= 0:\n",
        "   print(\"Please enter a positive integer\")\n",
        "# if there is only one term, return n1\n",
        "elif nterms == 1:\n",
        "   print(\"Fibonacci sequence upto\",nterms,\":\")\n",
        "   print(n1)\n",
        "# generate fibonacci sequence\n",
        "else:\n",
        "   print(\"Fibonacci sequence:\")\n",
        "   while count < nterms:\n",
        "       print(n1)\n",
        "       nth = n1 + n2\n",
        "       # update values\n",
        "       n1 = n2\n",
        "       n2 = nth\n",
        "       count += 1"
      ],
      "metadata": {
        "id": "L-YnRWbjjovc"
      },
      "execution_count": null,
      "outputs": []
    },
    {
      "cell_type": "markdown",
      "source": [
        "#Q7. Write a List Comprehension to iterate through the given string: ‘pwskills’.\n",
        "\n",
        "#Expected output: ['p', 'w', 's', 'k', 'i', 'l', 'l', 's']"
      ],
      "metadata": {
        "id": "3xTKZ0m2hTev"
      }
    },
    {
      "cell_type": "code",
      "source": [
        "string = 'pwskills'\n",
        "result = [char for char in string]\n",
        "print(result)"
      ],
      "metadata": {
        "colab": {
          "base_uri": "https://localhost:8080/"
        },
        "id": "YDcEU9k6hZCv",
        "outputId": "eecf013f-926e-4cf2-b814-7a9e102013cf"
      },
      "execution_count": 6,
      "outputs": [
        {
          "output_type": "stream",
          "name": "stdout",
          "text": [
            "['p', 'w', 's', 'k', 'i', 'l', 'l', 's']\n"
          ]
        }
      ]
    },
    {
      "cell_type": "markdown",
      "source": [
        "# Q8. Write a python program to check whether a given number is Palindrome or not using a while loop."
      ],
      "metadata": {
        "id": "WZvUV2H1gOJn"
      }
    },
    {
      "cell_type": "code",
      "source": [
        "def is_palindrome(number):\n",
        "    original_number = number\n",
        "    reverse_number = 0\n",
        "\n",
        "    while number > 0:\n",
        "        remainder = number % 10\n",
        "        reverse_number = (reverse_number * 10) + remainder\n",
        "        number = number // 10\n",
        "        if original_number == reverse_number:\n",
        "            return True\n",
        "        else:\n",
        "            return False"
      ],
      "metadata": {
        "id": "9kM_8Lx7gOrz"
      },
      "execution_count": null,
      "outputs": []
    },
    {
      "cell_type": "code",
      "source": [
        "num = int(input(\"Enter a number: \"))\n",
        "if is_palindrome(num):\n",
        "    print(num, \"is a palindrome\")\n",
        "else:\n",
        "    print(num, \"is not a palindrome\")\n"
      ],
      "metadata": {
        "id": "vOicvfyObZGL"
      },
      "execution_count": null,
      "outputs": []
    },
    {
      "cell_type": "markdown",
      "source": [
        "#Q9. Write a code to print odd numbers from 1 to 100 using list comprehension."
      ],
      "metadata": {
        "id": "i5FhqwSAiqjs"
      }
    },
    {
      "cell_type": "code",
      "source": [
        "odd_Num_list = [element for element in range(1, 101) if element % 2 == 1 ]\n",
        "print(odd_Num_list)"
      ],
      "metadata": {
        "id": "fjT8WOAJg5wI",
        "colab": {
          "base_uri": "https://localhost:8080/"
        },
        "outputId": "a5afbe8c-7c2b-4d9e-9eba-6e36bc0a9e50"
      },
      "execution_count": null,
      "outputs": [
        {
          "output_type": "stream",
          "name": "stdout",
          "text": [
            "[1, 3, 5, 7, 9, 11, 13, 15, 17, 19, 21, 23, 25, 27, 29, 31, 33, 35, 37, 39, 41, 43, 45, 47, 49, 51, 53, 55, 57, 59, 61, 63, 65, 67, 69, 71, 73, 75, 77, 79, 81, 83, 85, 87, 89, 91, 93, 95, 97, 99]\n"
          ]
        }
      ]
    },
    {
      "cell_type": "markdown",
      "source": [
        "# **`THE END`**"
      ],
      "metadata": {
        "id": "XN1Bws_CkCc1"
      }
    }
  ]
}
