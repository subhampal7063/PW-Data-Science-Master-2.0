{
  "nbformat": 4,
  "nbformat_minor": 0,
  "metadata": {
    "colab": {
      "provenance": []
    },
    "kernelspec": {
      "name": "python3",
      "display_name": "Python 3"
    },
    "language_info": {
      "name": "python"
    }
  },
  "cells": [
    {
      "cell_type": "markdown",
      "source": [
        "# Q.1> Explain GET and POST methods.\n",
        "*********************************\n",
        "Ans>\n",
        "\n",
        "1.  GET: The GET method is used to retrieve data from a server. When a user types a URL into a web browser,\n",
        "the browser sends a GET request to the server asking for the resource at that URL. The parameters for the request (such as search queries or page number) are included in the URL itself, separated by a question mark. Because the parameters are included in the URL, GET requests are visible to the user and can be bookmarked or shared. GET requests are also cached by browsers, which can speed up page load times for frequently visited pages.\n",
        "\n",
        "2.  POST: The POST method is used to send data to a server. For example, when a user fills out a form on a website and clicks \"Submit,\" the data from the form is sent to the server using a POST request. Unlike GET requests, POST requests do not include parameters in the URL. Instead, they include the parameters in the request body,which is not visible to the user. This makes POST requests more secure for transmitting sensitive information such as passwords or credit card numbers. Because POST requests are not cached, they are slower than GET requests for repeated requests of the same data."
      ],
      "metadata": {
        "id": "1RfbwVvnA0ly"
      }
    },
    {
      "cell_type": "markdown",
      "source": [
        "#Q.2> Why is request used in Flask?\n",
        "*********************\n",
        "Ans> The request module in Flask is used to access incoming request data in Flask applications. When a client (such as a web browser) sends a request to a Flask web application, the application can use the request module to access information about the request, such as the HTTP method used (e.g. GET, POST, etc.), the data sent in the request body (if any), and any parameters or data sent as part of the request URL."
      ],
      "metadata": {
        "id": "OBxCLvqSBWOX"
      }
    },
    {
      "cell_type": "markdown",
      "source": [
        "#Q.3> Why is redirect() used in Flask?\n",
        "***************************\n",
        "Ans> The redirect() function in Flask is used to redirect the user to a different URL or route within a Flask application. When a Flask application receives a request, it can use the redirect() function to send the user to a different URL or route, which can be useful for a variety of reasons."
      ],
      "metadata": {
        "id": "lMX-NYmiBknl"
      }
    },
    {
      "cell_type": "markdown",
      "source": [
        "# Q.4> What are templates in Flask? Why is the render_template() function used?\n",
        "****************************************\n",
        "Ans> Templates in Flask are files that contain HTML code with placeholders for dynamic content that will be  filled in by the Flask application at runtime. Templates allow developers to separate the presentation logic from the business logic of the application, making it easier to manage and maintain the application over time.\n",
        "\n",
        "The render_template() function in Flask is used to render templates and return the result as a response to a client's request. The function takes the name of a template file as its argument and any additional data that needs to be passed to the template for rendering. The function then processes the template, filling in the placeholders with the dynamic data and returning the resulting HTML code as a response to the client's request."
      ],
      "metadata": {
        "id": "EF2ELnZdBvgs"
      }
    },
    {
      "cell_type": "markdown",
      "source": [
        "#Q.5> Create a simple API. Use Postman to test it. Attach the screenshot of the output in the Jupyter Notebook.\n",
        "****************************************\n",
        "Ans>"
      ],
      "metadata": {
        "id": "2RynL7kzCJDg"
      }
    },
    {
      "cell_type": "code",
      "source": [
        "from flask import Flask, jsonify\n",
        "\n",
        "app = Flask(__name__)\n",
        "\n",
        "@app.route('/api', methods=['GET'])\n",
        "def api():\n",
        "    data = {\n",
        "        'message': 'Hello, World!',\n",
        "        'status': 200\n",
        "    }\n",
        "    return jsonify(data)\n",
        "\n",
        "if __name__ == '__main__':\n",
        "    app.run(debug=True)\n"
      ],
      "metadata": {
        "colab": {
          "base_uri": "https://localhost:8080/"
        },
        "id": "1I3mB0IRCPbU",
        "outputId": "2461e357-538b-4b7d-d6c3-8d894903be37"
      },
      "execution_count": 2,
      "outputs": [
        {
          "output_type": "stream",
          "name": "stdout",
          "text": [
            " * Serving Flask app '__main__'\n",
            " * Debug mode: on\n"
          ]
        },
        {
          "output_type": "stream",
          "name": "stderr",
          "text": [
            "INFO:werkzeug:\u001b[31m\u001b[1mWARNING: This is a development server. Do not use it in a production deployment. Use a production WSGI server instead.\u001b[0m\n",
            " * Running on http://127.0.0.1:5000\n",
            "INFO:werkzeug:\u001b[33mPress CTRL+C to quit\u001b[0m\n",
            "INFO:werkzeug: * Restarting with stat\n"
          ]
        }
      ]
    }
  ]
}