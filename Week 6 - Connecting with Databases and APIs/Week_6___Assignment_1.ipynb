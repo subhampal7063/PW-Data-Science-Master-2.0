{
  "cells": [
    {
      "cell_type": "markdown",
      "id": "fa937ec5-9676-4232-9a38-2cac7bdd8e55",
      "metadata": {
        "id": "fa937ec5-9676-4232-9a38-2cac7bdd8e55"
      },
      "source": [
        "# Q1. What is a database? Differentiate between SQL and NoSQL databases.\n",
        "*************************\n",
        "Ans :\n",
        "A database is an organized collection of structured or unstructured data that can be accessed, managed, and updated in a systematic way. Databases are used to store and manage data for various applications, ranging from small-scale personal applications to large-scale enterprise systems.\n",
        "\n",
        "SQL and NoSQL are two different types of databases that differ in their structure, data model, and query language:\n",
        "\n",
        "SQL databases: SQL stands for Structured Query Language, which is a language used to manage and manipulate relational databases. SQL databases store data in a structured manner, using tables with predefined columns and data types. Each table has a unique key, and the data is stored in rows that correspond to records in the table. SQL databases are highly structured and provide a high level of data integrity and consistency. Some examples of SQL databases include MySQL, Oracle, and PostgreSQL.\n",
        "\n",
        "NoSQL databases: NoSQL stands for \"not only SQL\", which means that NoSQL databases are not limited to SQL query language. NoSQL databases store data in a non-structured or semi-structured manner, using documents, key-value pairs, or graphs. NoSQL databases are highly scalable and can handle large volumes of data with ease. NoSQL databases provide greater flexibility and agility than SQL databases, but at the cost of reduced data integrity and consistency. Some examples of NoSQL databases include MongoDB, Cassandra, and Redis.\n",
        "\n",
        "In summary, SQL databases are highly structured, provide high data integrity and consistency, and use SQL as a query language. NoSQL databases are highly scalable, provide greater flexibility and agility, and use non-structured or semi-structured data models."
      ]
    },
    {
      "cell_type": "markdown",
      "id": "08cd8909-8d1b-4b7b-9b98-8639a56d773a",
      "metadata": {
        "id": "08cd8909-8d1b-4b7b-9b98-8639a56d773a"
      },
      "source": [
        "# Q2. What is DDL? Explain why CREATE, DROP, ALTER, and TRUNCATE are used with an example.\n",
        "********************************\n",
        "DDL stands for Data Definition Language, which is a set of SQL commands used to create, modify, and delete database objects such as tables, indexes, and constraints. DDL is used to define the structure of a database and its objects.\n",
        "\n",
        "The following are some of the commonly used DDL commands and their usage:\n",
        "\n",
        "CREATE: The CREATE command is used to create a new database object such as a table, index, or view. For example, to create a new table named \"users\" with columns for user ID, name, and email address, we can use the following SQL statement: DROP: The DROP command is used to delete an existing database object such as a table, index, or view. For example, to delete the \"users\" table created above, we can use the following SQL statement: ALTER: The ALTER command is used to modify the structure of an existing database object such as a table or index. For example, to add a new column \"age\" to the \"users\" table created above, we can use the following SQL statement: TRUNCATE: The TRUNCATE command is used to delete all data from a table without deleting the table itself. For example, to delete all data from the \"users\" table created above, we can use the following SQL statement:"
      ]
    },
    {
      "cell_type": "markdown",
      "source": [
        "```\n",
        "CREATE\n",
        "----------\n",
        "CREATE TABLE Employees (\n",
        "    EmployeeID INT PRIMARY KEY,\n",
        "    FirstName VARCHAR(50),\n",
        "    LastName VARCHAR(50),\n",
        "    Age INT,\n",
        "    Department VARCHAR(50)\n",
        ");\n",
        "\n",
        "DROP\n",
        "---------\n",
        "DROP TABLE Employees;\n",
        "\n",
        "ALTER\n",
        "----------\n",
        "ALTER TABLE Employees\n",
        "ADD Email VARCHAR(100);\n",
        "\n",
        "TRUNCATE\n",
        "-----------\n",
        "TRUNCATE TABLE Employees;\n",
        "```"
      ],
      "metadata": {
        "id": "js0umHA4jLgE"
      },
      "id": "js0umHA4jLgE"
    },
    {
      "cell_type": "markdown",
      "id": "c724367b-e592-4f8f-82e3-18d71c8d1e57",
      "metadata": {
        "id": "c724367b-e592-4f8f-82e3-18d71c8d1e57"
      },
      "source": [
        "# Q3. What is DML? Explain INSERT, UPDATE, and DELETE with an example.\n",
        "***********************\n",
        "Ans: DML stands for Data Manipulation Language, which is a set of SQL commands used to insert, update, and delete data in a database table. DML commands are used to modify the data stored in a table.\n",
        "\n",
        "The following are some of the commonly used DML commands and their usage:\n",
        "\n",
        "INSERT: The INSERT command is used to insert new data into a table. For example, to insert a new row into the \"users\" table with ID 1, name \"subham\", and email \"subham@pal.com\", we can use the following SQL statement: UPDATE: The UPDATE command is used to update existing data in a table. For example, to update the email address of the user with ID 1 to \"subham@pal.com\", we can use the following SQL statement: sql DELETE: The DELETE command is used to delete data from a table. For example, to delete the user with ID 1 from the \"users\" table, we can use the following SQL statemenr\n",
        "\n"
      ]
    },
    {
      "cell_type": "markdown",
      "source": [
        "```\n",
        "INSERT\n",
        "------------\n",
        "INSERT INTO Employees (EmployeeID, FirstName, LastName, Age, Department)\n",
        "VALUES (1, 'SUBHAM', 'PAL', 20, 'DATASCIENCE');\n",
        "\n",
        "UPDATE\n",
        "------------\n",
        "UPDATE Employees\n",
        "SET Department = 'Marketing'\n",
        "WHERE EmployeeID = 1;\n",
        "\n",
        "DELETE\n",
        "------------\n",
        "DELETE FROM Employees\n",
        "WHERE EmployeeID = 1;\n",
        "\n",
        "\n",
        "```\n",
        "\n"
      ],
      "metadata": {
        "id": "mYIQzyJJjpZo"
      },
      "id": "mYIQzyJJjpZo"
    },
    {
      "cell_type": "markdown",
      "id": "39bdb5fc-ada9-4c7d-ad1c-f520274a067f",
      "metadata": {
        "id": "39bdb5fc-ada9-4c7d-ad1c-f520274a067f"
      },
      "source": [
        "# Q4. What is DQL? Explain SELECT with an example.\n",
        "***************\n",
        "Ans:\n",
        "DQL stands for Data Query Language, which is a set of SQL commands used to retrieve data from a database table. DQL commands are used to query the data stored in a table.\n",
        "\n",
        "The most commonly used DQL command is SELECT. The SELECT command is used to retrieve data from one or more tables. Here's an example of how to use the SELECT command:"
      ]
    },
    {
      "cell_type": "markdown",
      "source": [
        "```\n",
        "SELECT FirstName, LastName\n",
        "FROM Employees\n",
        "WHERE Age >= 2 AND Department = 'DATASCIENCE';\n",
        "```"
      ],
      "metadata": {
        "id": "966V1H7-kO8Y"
      },
      "id": "966V1H7-kO8Y"
    },
    {
      "cell_type": "markdown",
      "id": "a22fa050-9a2e-4470-970d-288fe35c1044",
      "metadata": {
        "id": "a22fa050-9a2e-4470-970d-288fe35c1044"
      },
      "source": [
        "# Q5. Explain Primary Key and Foreign Key."
      ]
    },
    {
      "cell_type": "markdown",
      "id": "d5a08caf-1a8d-4cc5-bb4c-574b8b8184ef",
      "metadata": {
        "id": "d5a08caf-1a8d-4cc5-bb4c-574b8b8184ef"
      },
      "source": [
        "a primary key is a unique identifier for each row in a table. It is a column or combination of columns that uniquely identifies each record in a table. The primary key constraint ensures that the values in the primary key column(s) are unique and not null. For example, in a \"users\" table, the \"id\" column can be the primary key if each user has a unique ID number.\n",
        "\n",
        "A foreign key is a column or combination of columns in one table that refers to the primary key of another table. It establishes a relationship between two tables, where the values in the foreign key column(s) of one table match the values in the primary key column(s) of another table. For example, in a \"orders\" table, the \"user_id\" column can be a foreign key that refers to the \"id\" column of the \"users\" table, indicating which user placed each order."
      ]
    },
    {
      "cell_type": "markdown",
      "id": "18f62627-fd2f-4411-9061-e9c81cd9c236",
      "metadata": {
        "id": "18f62627-fd2f-4411-9061-e9c81cd9c236"
      },
      "source": [
        "# Q6. Write a python code to connect MySQL to python. Explain the cursor() and execute() method."
      ]
    },
    {
      "cell_type": "markdown",
      "id": "362eb79a-cd22-458f-9e14-19898daaa52a",
      "metadata": {
        "id": "362eb79a-cd22-458f-9e14-19898daaa52a"
      },
      "source": [
        "```\n",
        "import mysql.connector\n",
        "\n",
        "# Establishing a connection\n",
        "connection = mysql.connector.connect(\n",
        "    host=\"localhost\",\n",
        "    user=\"subham\",\n",
        "    password=\"password\",\n",
        "    database=\"employdata\"\n",
        ")\n",
        "\n",
        "# Checking if the connection is successful\n",
        "if connection.is_connected():\n",
        "    print(\"Connected to MySQL database\")\n",
        "\n",
        "# Closing the connection\n",
        "connection.close()\n",
        "```"
      ]
    },
    {
      "cell_type": "markdown",
      "id": "8e66eecf-15b2-4743-a8e3-72071dda2940",
      "metadata": {
        "id": "8e66eecf-15b2-4743-a8e3-72071dda2940"
      },
      "source": [
        "The cursor() method in Python is used to create a cursor object, which allows us to execute SQL commands on the database. The cursor object provides methods to execute SQL commands, fetch data from the database, and handle transactions.\n",
        "\n",
        "The execute() method is used to execute SQL commands on the database using the cursor object. It takes an SQL query as its argument and returns the result of the query. For example, to execute a SELECT query on a MySQL database using the cursor object,"
      ]
    },
    {
      "cell_type": "markdown",
      "id": "f98be185-d1d0-4283-8693-a33e6ee06efd",
      "metadata": {
        "id": "f98be185-d1d0-4283-8693-a33e6ee06efd"
      },
      "source": [
        "# Q7. Give the order of execution of SQL clauses in an SQL query.\n",
        "***********************\n",
        "Ans:\n",
        "SELECT: Specifies the columns to be retrieved from the database table. FROM: Specifies the table from which to retrieve the data. JOIN: Combines multiple tables based on a common column. WHERE: Filters the data based on certain conditions. GROUP BY: Groups the data based on one or more"
      ]
    },
    {
      "cell_type": "markdown",
      "source": [
        "# ***THE END***"
      ],
      "metadata": {
        "id": "h398swzWlDn_"
      },
      "id": "h398swzWlDn_"
    }
  ],
  "metadata": {
    "kernelspec": {
      "display_name": "Python 3 (ipykernel)",
      "language": "python",
      "name": "python3"
    },
    "language_info": {
      "codemirror_mode": {
        "name": "ipython",
        "version": 3
      },
      "file_extension": ".py",
      "mimetype": "text/x-python",
      "name": "python",
      "nbconvert_exporter": "python",
      "pygments_lexer": "ipython3",
      "version": "3.10.8"
    },
    "colab": {
      "provenance": []
    }
  },
  "nbformat": 4,
  "nbformat_minor": 5
}