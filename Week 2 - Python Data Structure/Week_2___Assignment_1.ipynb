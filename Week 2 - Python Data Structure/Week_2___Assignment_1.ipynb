{
  "nbformat": 4,
  "nbformat_minor": 0,
  "metadata": {
    "colab": {
      "provenance": []
    },
    "kernelspec": {
      "name": "python3",
      "display_name": "Python 3"
    },
    "language_info": {
      "name": "python"
    }
  },
  "cells": [
    {
      "cell_type": "markdown",
      "source": [
        "#Q1. How do you comment code in Python? What are the different types of comments?\n",
        "\n",
        "\n",
        "---\n",
        "\n",
        "\n",
        "#Ans :\n",
        "\n",
        "in python we write code by using **\" #code \"**  and **''' code '''**\n",
        "\n",
        "comments are mainly 2 types =\n",
        "\n",
        "1.   Single Line Comment\n",
        "2.   Multi Line Comment"
      ],
      "metadata": {
        "id": "ytpE5eg3XVYU"
      }
    },
    {
      "cell_type": "code",
      "execution_count": null,
      "metadata": {
        "colab": {
          "base_uri": "https://localhost:8080/",
          "height": 36
        },
        "id": "hxp3JmoFXPYK",
        "outputId": "af236784-88e3-49f8-9d9c-ccb16a711f92"
      },
      "outputs": [
        {
          "output_type": "execute_result",
          "data": {
            "text/plain": [
              "'\\nMulti\\nLine\\nCommeent\\n'"
            ],
            "application/vnd.google.colaboratory.intrinsic+json": {
              "type": "string"
            }
          },
          "metadata": {},
          "execution_count": 1
        }
      ],
      "source": [
        "#Single Line Comment\n",
        "\n",
        "'''\n",
        "Multi\n",
        "Line\n",
        "Commeent\n",
        "'''"
      ]
    },
    {
      "cell_type": "markdown",
      "source": [
        "#Q2. What are variables in Python? How do you declare and assign values to variables?\n",
        "\n",
        "\n",
        "---\n",
        "\n",
        "\n",
        "#Ans:  \n",
        "\n",
        "In Python, variables are used to store and manipulate data. A variable is essentially a name that refers to a value or an object.\n",
        "\n",
        "Example :\n",
        "\n",
        "\n",
        "1.      x = 5\n",
        "2.      x = \"Strings\"\n",
        "\n",
        "x is a variable\n",
        "\n"
      ],
      "metadata": {
        "id": "KjlEegkvaFsG"
      }
    },
    {
      "cell_type": "code",
      "source": [
        "x = 5\n",
        "x = \"subham\"\n",
        "x"
      ],
      "metadata": {
        "colab": {
          "base_uri": "https://localhost:8080/",
          "height": 36
        },
        "id": "b0vwEzmVb3u6",
        "outputId": "94897114-767f-4f52-e1cd-9c61c80d51c2"
      },
      "execution_count": null,
      "outputs": [
        {
          "output_type": "execute_result",
          "data": {
            "text/plain": [
              "'subham'"
            ],
            "application/vnd.google.colaboratory.intrinsic+json": {
              "type": "string"
            }
          },
          "metadata": {},
          "execution_count": 2
        }
      ]
    },
    {
      "cell_type": "markdown",
      "source": [
        "#Q3. How do you convert one data type to another in Python?\n",
        "\n",
        "\n",
        "---\n",
        "\n",
        "\n",
        "\n",
        "**Ans:**\n",
        "\n",
        "There are mainly two ways to convert one datatype to another datatype\n",
        "\n",
        "\n",
        "1.   **Implicit Conversion**\n",
        "\n",
        "\n",
        "> >> Here Python convert datatype by itself.\n",
        "> >>>> For example : Adding one Integer and One Floating Number will return a Floating point number\n",
        "\n",
        "\n",
        "\n",
        "\n",
        "2.   **Explicit Conversion**\n",
        "> >> This is nothing but typecasting method\n",
        "> >>>>int(),float(),str(),bool() = with this function we can convert\n",
        "\n",
        "\n",
        "\n",
        "Another ways are also there\n",
        "\n",
        "Using Conversion Functions: convert iterative objects\n",
        "\n",
        "list(): Converts to a list.\n",
        "\n",
        "\n",
        "tuple(): Converts to a tuple.\n",
        "\n",
        "\n",
        "set(): Converts  to a set.\n",
        "\n",
        "\n",
        "dict(): Converts  to a dictionary.\n",
        "\n",
        "    str_list = list(\"hello\")  \n",
        "    # Converts string to list ['h', 'e', 'l', 'l', 'o']\n",
        "    \n",
        "    num_tuple = tuple([1, 2, 3])  \n",
        "    # Converts list to tuple (1, 2, 3)\n",
        "\n",
        "    set_nums = set([1, 2, 2, 3])  \n",
        "    # Converts list to set {1, 2, 3}\n",
        "\n",
        "    dict_pairs = dict([('a', 1), ('b', 2)])  \n",
        "    # Converts list of key-value pairs to dictionary {'a': 1, 'b': 2}\n"
      ],
      "metadata": {
        "id": "ag6aiOfXcDqu"
      }
    },
    {
      "cell_type": "markdown",
      "source": [
        "#Q4. How do you write and execute a Python script from the command line?\n",
        "\n",
        "\n",
        "---\n",
        "\n",
        "**Ans:**\n",
        "\n",
        "step 1. Create a file with **.py** extension in a text editor\n",
        "    \n",
        "    test.py\n",
        "\n",
        "step 2. write a code in that file\n",
        "    \n",
        "    print(\"Hello, World!\")\n",
        "\n",
        "step 3. Save that file\n",
        "\n",
        "Step 4. Open Command Prompt on Windows, Terminal on macOS, or a Linux shell.\n",
        "\n",
        "step 5. Run that file\n",
        "\n",
        "    python test.py\n",
        "\n",
        "It will give a output\n",
        "\n",
        "    Hello, World!\n"
      ],
      "metadata": {
        "id": "COdNo2JsGsrH"
      }
    },
    {
      "cell_type": "markdown",
      "source": [
        "#Q5. Given a list my_list = [1, 2, 3, 4, 5], write the code to slice the list and obtain the sub-list [2, 3]."
      ],
      "metadata": {
        "id": "mTKCnG0tLBCo"
      }
    },
    {
      "cell_type": "code",
      "source": [
        "my_list = [1,2,3,4,5]\n",
        "sublist = my_list[1:3]\n",
        "sublist"
      ],
      "metadata": {
        "colab": {
          "base_uri": "https://localhost:8080/"
        },
        "id": "pG6UPH1BLazV",
        "outputId": "c0d8281a-7562-4185-efcf-692daf06bc21"
      },
      "execution_count": null,
      "outputs": [
        {
          "output_type": "execute_result",
          "data": {
            "text/plain": [
              "[2, 3]"
            ]
          },
          "metadata": {},
          "execution_count": 3
        }
      ]
    },
    {
      "cell_type": "markdown",
      "source": [
        "#Q6. What is a complex number in mathematics, and how is it represented in Python?\n",
        "************\n",
        "Ans :\n",
        "\n",
        "In mathematics, a complex number is a number of the form a + bi, where a and b are real numbers and i is the imaginary unit, defined as the square root of -1. The real part a represents the real value of the complex number, while the imaginary part b represents the multiple of i.\n",
        "\n",
        "in Python the representation of complex number is\n",
        "\n",
        "      a+bj\n",
        "      the 'a' is real part and 'bj' part is imaginary"
      ],
      "metadata": {
        "id": "8v7NJAr-MCOx"
      }
    },
    {
      "cell_type": "code",
      "source": [
        "complex_num =  7 + 8j\n",
        "print(complex_num.real)   # output for this line = 7.0\n",
        "print(complex_num.imag)   # output for this line = 8.0"
      ],
      "metadata": {
        "colab": {
          "base_uri": "https://localhost:8080/"
        },
        "id": "oyGw0wJYNgrP",
        "outputId": "56f0ef47-16f3-4254-de7f-37b8dca77f28"
      },
      "execution_count": null,
      "outputs": [
        {
          "output_type": "stream",
          "name": "stdout",
          "text": [
            "7.0\n",
            "8.0\n"
          ]
        }
      ]
    },
    {
      "cell_type": "markdown",
      "source": [
        "#Q7. What is the correct way to declare a variable named age and assign the value 25 to it?\n",
        "\n",
        "\n",
        "---\n",
        "\n",
        "Ans:\n",
        "  as the value of **Age** is 25. it is a integer data type."
      ],
      "metadata": {
        "id": "0FBxkJIxN4Os"
      }
    },
    {
      "cell_type": "code",
      "source": [
        "Age = 25 # Age is variable , 25 is its value and the datatype is Int"
      ],
      "metadata": {
        "id": "n3MiUhjeOS6W"
      },
      "execution_count": null,
      "outputs": []
    },
    {
      "cell_type": "markdown",
      "source": [
        "#Q8. Declare a variable named price and assign the value 9.99 to it. What data type does this variable belong to?\n",
        "************\n",
        "**Ans:**\n",
        "variable name = price\n",
        "Variable Value = 9.99\n",
        "So, the the Variable belongs to **\"Float\"** datatype"
      ],
      "metadata": {
        "id": "z0CWdh5fOkl8"
      }
    },
    {
      "cell_type": "code",
      "source": [
        "price = 9.99\n",
        "type(price)"
      ],
      "metadata": {
        "colab": {
          "base_uri": "https://localhost:8080/"
        },
        "id": "RhkvFht0O81a",
        "outputId": "0f741aee-6a18-4904-95f1-66a2297c03a3"
      },
      "execution_count": null,
      "outputs": [
        {
          "output_type": "execute_result",
          "data": {
            "text/plain": [
              "float"
            ]
          },
          "metadata": {},
          "execution_count": 6
        }
      ]
    },
    {
      "cell_type": "markdown",
      "source": [
        "#Q9. Create a variable named name and assign your full name to it as a string. How would you print the value of this variable?\n",
        "*************\n",
        " name = \"SUBHAM PAL\"\n",
        "\n",
        " to print the value of this variable\n",
        " I would code"
      ],
      "metadata": {
        "id": "De2Os-e4PMMk"
      }
    },
    {
      "cell_type": "code",
      "source": [
        "name = \"SUBHAM PAL\"\n",
        "print(name)             #Output = SUBHAM PAL"
      ],
      "metadata": {
        "colab": {
          "base_uri": "https://localhost:8080/"
        },
        "id": "Q7h5XnoxPAN3",
        "outputId": "033313e1-a96b-4330-e3a2-495794b0ebbb"
      },
      "execution_count": null,
      "outputs": [
        {
          "output_type": "stream",
          "name": "stdout",
          "text": [
            "SUBHAM PAL\n"
          ]
        }
      ]
    },
    {
      "cell_type": "markdown",
      "source": [
        "#Q10. Given the string \"Hello, World!\", extract the substring \"World\".\n",
        "****\n",
        "Ans:\n"
      ],
      "metadata": {
        "id": "0eIa7IENPr-X"
      }
    },
    {
      "cell_type": "code",
      "source": [
        "string = \"Hello, World!\"\n",
        "substring= string[7:12]\n",
        "substring"
      ],
      "metadata": {
        "colab": {
          "base_uri": "https://localhost:8080/",
          "height": 36
        },
        "id": "XCOPAH7pPme2",
        "outputId": "726d4162-d177-4e10-adce-6b9e9c84ae05"
      },
      "execution_count": null,
      "outputs": [
        {
          "output_type": "execute_result",
          "data": {
            "text/plain": [
              "'World'"
            ],
            "application/vnd.google.colaboratory.intrinsic+json": {
              "type": "string"
            }
          },
          "metadata": {},
          "execution_count": 8
        }
      ]
    },
    {
      "cell_type": "markdown",
      "source": [
        "#Q11. Create a variable named \"is_student\" and assign it a boolean value indicating whether you are currently a student or not.\n",
        "-------------------------------"
      ],
      "metadata": {
        "id": "q2egRbhOQhVF"
      }
    },
    {
      "cell_type": "code",
      "source": [
        "is_student = True  # I am an student so, its True\n",
        "is_student"
      ],
      "metadata": {
        "colab": {
          "base_uri": "https://localhost:8080/"
        },
        "id": "6IHrzW05QtGA",
        "outputId": "bd6a9873-3f63-4807-b5cc-7cf6eee89d59"
      },
      "execution_count": null,
      "outputs": [
        {
          "output_type": "execute_result",
          "data": {
            "text/plain": [
              "True"
            ]
          },
          "metadata": {},
          "execution_count": 9
        }
      ]
    },
    {
      "cell_type": "markdown",
      "source": [
        "*************************\n",
        "#**THE END**\n",
        "*************************"
      ],
      "metadata": {
        "id": "Xnns1Lu5RX55"
      }
    }
  ]
}