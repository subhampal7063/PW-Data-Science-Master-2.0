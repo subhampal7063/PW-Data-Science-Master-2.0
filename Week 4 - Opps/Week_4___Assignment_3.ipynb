{
  "cells": [
    {
      "cell_type": "markdown",
      "id": "28db60b2-d66c-425c-924a-ba4445709b89",
      "metadata": {
        "id": "28db60b2-d66c-425c-924a-ba4445709b89"
      },
      "source": [
        "# 1. What is Abstraction in OOps?\n",
        "***************************\n",
        "Ans: Abstraction in python is defined as a process of handling complexity by hiding unnecessary information from the user. This is one of the core concepts of object-oriented programming (OOP) languages. That enables the user to implement even more complex logic on top of the provided abstraction without understanding or even thinking about all the hidden background/back-end complexity.\n",
        "\n",
        "Example"
      ]
    },
    {
      "cell_type": "code",
      "execution_count": 1,
      "id": "4fa288b3-8261-412f-b6bd-22804db42a2a",
      "metadata": {
        "colab": {
          "base_uri": "https://localhost:8080/"
        },
        "id": "4fa288b3-8261-412f-b6bd-22804db42a2a",
        "outputId": "c9eee067-79c9-45d8-cf4e-05a929f176a6"
      },
      "outputs": [
        {
          "output_type": "stream",
          "name": "stdout",
          "text": [
            "The mileage is 30kmph\n",
            "The mileage is 27kmph \n",
            "The mileage is 25kmph \n",
            "The mileage is 24kmph \n"
          ]
        }
      ],
      "source": [
        "from abc import ABC, abstractmethod\n",
        "class Car(ABC):\n",
        "    def mileage(self):\n",
        "        pass\n",
        "\n",
        "class Tesla(Car):\n",
        "    def mileage(self):\n",
        "        print(\"The mileage is 30kmph\")\n",
        "class Suzuki(Car):\n",
        "    def mileage(self):\n",
        "        print(\"The mileage is 25kmph \")\n",
        "class Duster(Car):\n",
        "     def mileage(self):\n",
        "          print(\"The mileage is 24kmph \")\n",
        "\n",
        "class Renault(Car):\n",
        "    def mileage(self):\n",
        "            print(\"The mileage is 27kmph \")\n",
        "\n",
        "# Driver code\n",
        "t= Tesla ()\n",
        "t.mileage()\n",
        "\n",
        "r = Renault()\n",
        "r.mileage()\n",
        "\n",
        "s = Suzuki()\n",
        "s.mileage()\n",
        "d = Duster()\n",
        "d.mileage()"
      ]
    },
    {
      "cell_type": "markdown",
      "id": "d214eab3-d09d-492e-8299-93fabb295b5e",
      "metadata": {
        "id": "d214eab3-d09d-492e-8299-93fabb295b5e"
      },
      "source": [
        "# 2. Differentiate between Abstraction and Encapsulation. Explain with an example.\n",
        "************************\n",
        "Ans:\n",
        "\n",
        "Difference 1\n",
        "\n",
        "Abstraction is the process or method of gaining the information.\n",
        "\n",
        "While encapsulation is the process or method to contain the information.\n",
        "\n",
        ".............\n",
        "\n",
        "Differnce 2\n",
        "\n",
        "In abstraction, problems are solved at the design or interface level.\n",
        "\n",
        "While in encapsulation, problems are solved at the implementation level.\n"
      ]
    },
    {
      "cell_type": "markdown",
      "id": "9c0b3abf-813a-40d8-9a56-baf8ec54e338",
      "metadata": {
        "id": "9c0b3abf-813a-40d8-9a56-baf8ec54e338"
      },
      "source": [
        "# 3. What is abc module in python? Why is it used?\n",
        "**************\n",
        "Ans: The abc module in Python is the Abstract Base Class module. It is used to define abstract base classes, which provide a way to define interfaces in Python. An abstract base class is a class that cannot be instantiated, but can be subclassed. The purpose of an abstract base class is to specify the interface that its subclasses must implement, without specifying how that implementation should be done.\n",
        "\n",
        "The abc module provides a way to create abstract base classes in Python by using the ABC class, as well as several decorators and methods to define abstract methods and properties."
      ]
    },
    {
      "cell_type": "markdown",
      "id": "b4f8320b-b650-490f-b963-e7335778ed39",
      "metadata": {
        "id": "b4f8320b-b650-490f-b963-e7335778ed39"
      },
      "source": [
        "#4. How can we achieve data abstraction?\n",
        "*******************************************************************\n",
        "Ans: Data abstraction is a programming concept that allows you to define the interface of an object without revealing the underlying implementation details. In other words, it provides a way to separate the implementation details of an object from the way it is used by other objects.\n",
        "\n",
        "There are several ways to achieve data abstraction in programming:\n",
        "\n",
        "*Abstraction through classes.\n",
        "*Interfaces\n",
        "*Modules\n",
        "*Information hiding"
      ]
    },
    {
      "cell_type": "markdown",
      "id": "157a62e9-4b66-4eef-9961-ddd5c84cdd95",
      "metadata": {
        "id": "157a62e9-4b66-4eef-9961-ddd5c84cdd95"
      },
      "source": [
        "# 5. Can we create an instance of an abstract class? Explain your answer.\n",
        "**************************\n",
        "Ans:\n",
        "\n",
        "No, We cannot create an instance of an abstract class. An abstract class is a class that cannot be instantiated on its own, but is intended to be subclassed and have its abstract methods implemented by the subclasses. The purpose of an abstract class is to provide a common interface for a set of related classes, but not to be used as a standalone object."
      ]
    },
    {
      "cell_type": "markdown",
      "source": [
        "#The End"
      ],
      "metadata": {
        "id": "lUr7KY_epxe4"
      },
      "id": "lUr7KY_epxe4"
    }
  ],
  "metadata": {
    "kernelspec": {
      "display_name": "Python 3 (ipykernel)",
      "language": "python",
      "name": "python3"
    },
    "language_info": {
      "codemirror_mode": {
        "name": "ipython",
        "version": 3
      },
      "file_extension": ".py",
      "mimetype": "text/x-python",
      "name": "python",
      "nbconvert_exporter": "python",
      "pygments_lexer": "ipython3",
      "version": "3.10.8"
    },
    "colab": {
      "provenance": []
    }
  },
  "nbformat": 4,
  "nbformat_minor": 5
}