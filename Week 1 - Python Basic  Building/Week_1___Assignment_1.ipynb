{
  "nbformat": 4,
  "nbformat_minor": 0,
  "metadata": {
    "colab": {
      "provenance": []
    },
    "kernelspec": {
      "name": "python3",
      "display_name": "Python 3"
    },
    "language_info": {
      "name": "python"
    }
  },
  "cells": [
    {
      "cell_type": "markdown",
      "source": [
        " Q1. Create one variable containing following type of data:\n",
        "\n",
        "(i) string\n",
        "\n",
        "(ii) list\n",
        "\n",
        "(iii) float\n",
        "\n",
        "(iv) tuple"
      ],
      "metadata": {
        "id": "yMFFpwnKMZ2L"
      }
    },
    {
      "cell_type": "code",
      "execution_count": 1,
      "metadata": {
        "id": "-IyW9JedMZG2"
      },
      "outputs": [],
      "source": [
        "deta = (\"subham\",[1,2,3],2.4,(1,2,3))"
      ]
    },
    {
      "cell_type": "code",
      "source": [
        "type(deta)"
      ],
      "metadata": {
        "colab": {
          "base_uri": "https://localhost:8080/"
        },
        "id": "6O7pSOdLMuXO",
        "outputId": "426cc1de-4558-4273-9c9f-b41bd6b9f791"
      },
      "execution_count": 2,
      "outputs": [
        {
          "output_type": "execute_result",
          "data": {
            "text/plain": [
              "tuple"
            ]
          },
          "metadata": {},
          "execution_count": 2
        }
      ]
    },
    {
      "cell_type": "markdown",
      "source": [
        "Q2. Given are some following variables containing data:\n",
        "\n",
        "(i) var1 = ''\n",
        "\n",
        "(ii) var2 = '[ DS , ML , Python]'\n",
        "\n",
        "(iii) var3 = [ 'DS' , 'ML' , 'Python' ]\n",
        "\n",
        "(iv) var4 = 1.\n",
        "\n",
        "What will be the data type of the above given variable."
      ],
      "metadata": {
        "id": "fWhRM3K0M32l"
      }
    },
    {
      "cell_type": "code",
      "source": [
        "var1 = ''\n",
        "var2 = '[ DS , ML , Python]'\n",
        "var3 = [ 'DS' , 'ML' , 'Python' ]\n",
        "var4 = 1\n",
        "print(type(var1))\n",
        "print(type(var2))\n",
        "print(type(var3))\n",
        "print(type(var4))"
      ],
      "metadata": {
        "colab": {
          "base_uri": "https://localhost:8080/"
        },
        "id": "nGDt9crgM3FJ",
        "outputId": "d053ea5d-30fc-447d-9118-e0e86f0216c3"
      },
      "execution_count": 3,
      "outputs": [
        {
          "output_type": "stream",
          "name": "stdout",
          "text": [
            "<class 'str'>\n",
            "<class 'str'>\n",
            "<class 'list'>\n",
            "<class 'int'>\n"
          ]
        }
      ]
    },
    {
      "cell_type": "markdown",
      "source": [
        "Q3. Explain the use of the following operators using an example:\n",
        "\n",
        "(i) /\n",
        "\n",
        "(ii) %\n",
        "\n",
        "(iii) //\n",
        "\n",
        "(iv) **"
      ],
      "metadata": {
        "id": "7IFblcNGNj-f"
      }
    },
    {
      "cell_type": "code",
      "source": [
        "a = 10\n",
        "b = 3\n",
        "print(a/b) # / division operator divide a number if division output in float it returns float\n",
        "print(a%b) # % Modulus operator divides a number and output the reminder\n",
        "print(a//b) # // Floor division = Divide number and return integer value\n",
        "print(a**b) # Exponentiation = return a power b"
      ],
      "metadata": {
        "colab": {
          "base_uri": "https://localhost:8080/"
        },
        "id": "I3PzC7pbNPSX",
        "outputId": "eed08795-150d-4636-88d8-b30e63ce887e"
      },
      "execution_count": 4,
      "outputs": [
        {
          "output_type": "stream",
          "name": "stdout",
          "text": [
            "3.3333333333333335\n",
            "1\n",
            "3\n",
            "1000\n"
          ]
        }
      ]
    },
    {
      "cell_type": "markdown",
      "source": [
        "#Q4. Create a list of length 10 of your choice containing multiple types of data. Using for loop print the element and its data type."
      ],
      "metadata": {
        "id": "gG30920FPffs"
      }
    },
    {
      "cell_type": "code",
      "source": [
        "list1 = [1,2,3,4,5,5.6,7.8,\"subham\",\"pal\",\"Learning_DS\"]\n",
        "len(list1)"
      ],
      "metadata": {
        "colab": {
          "base_uri": "https://localhost:8080/"
        },
        "id": "kx5Q9i0_N5LS",
        "outputId": "129d8ecb-4aa9-4346-9c6c-816c5da70a2b"
      },
      "execution_count": 5,
      "outputs": [
        {
          "output_type": "execute_result",
          "data": {
            "text/plain": [
              "10"
            ]
          },
          "metadata": {},
          "execution_count": 5
        }
      ]
    },
    {
      "cell_type": "code",
      "source": [
        "for i in list1:\n",
        "  print(i,\"=\", type(i))"
      ],
      "metadata": {
        "colab": {
          "base_uri": "https://localhost:8080/"
        },
        "id": "mWGQq8S9QGM3",
        "outputId": "161c7d9f-7676-4f15-d222-6bf956402608"
      },
      "execution_count": 6,
      "outputs": [
        {
          "output_type": "stream",
          "name": "stdout",
          "text": [
            "1 = <class 'int'>\n",
            "2 = <class 'int'>\n",
            "3 = <class 'int'>\n",
            "4 = <class 'int'>\n",
            "5 = <class 'int'>\n",
            "5.6 = <class 'float'>\n",
            "7.8 = <class 'float'>\n",
            "subham = <class 'str'>\n",
            "pal = <class 'str'>\n",
            "Learning_DS = <class 'str'>\n"
          ]
        }
      ]
    },
    {
      "cell_type": "markdown",
      "source": [
        "# Q5. Using a while loop, verify if the number A is purely divisible by number B and if so then how many times it can be divisible."
      ],
      "metadata": {
        "id": "cpYoZ755Q817"
      }
    },
    {
      "cell_type": "code",
      "source": [
        "A = 512\n",
        "B = 2\n",
        "sum = 0\n",
        "while A%B==0:\n",
        "  A = A/B\n",
        "  sum = sum +1 \n",
        "\n",
        "print(\"The number of times it is divisible is\",sum)"
      ],
      "metadata": {
        "colab": {
          "base_uri": "https://localhost:8080/"
        },
        "id": "r9fACwfuaU9Q",
        "outputId": "466e1082-e11f-420d-e577-47e9e792180b"
      },
      "execution_count": 7,
      "outputs": [
        {
          "output_type": "stream",
          "name": "stdout",
          "text": [
            "The number of times it is divisible is 9\n"
          ]
        }
      ]
    },
    {
      "cell_type": "markdown",
      "source": [
        "# Q6. Create a list containing 25 int type data. Using for loop and if-else condition print if the element is divisible by 3 or not."
      ],
      "metadata": {
        "id": "urtQw42cSgJy"
      }
    },
    {
      "cell_type": "code",
      "source": [
        "list25 = [1,2,3,4,5,6,7,8,9,10,11,12,13,14,15,16,17,18,19,20,21,22,23,24,25]\n",
        "\n",
        "for i in list25:\n",
        "  if (i%3 == 0):\n",
        "    print(i,\"Divisible by 3\")\n",
        "  else:\n",
        "    print(i,\"Not Divisible by 3\")"
      ],
      "metadata": {
        "colab": {
          "base_uri": "https://localhost:8080/"
        },
        "id": "NJTZerQMQqBA",
        "outputId": "666cff7e-cdc1-40fa-bf35-94c95157ceba"
      },
      "execution_count": 8,
      "outputs": [
        {
          "output_type": "stream",
          "name": "stdout",
          "text": [
            "1 Not Divisible by 3\n",
            "2 Not Divisible by 3\n",
            "3 Divisible by 3\n",
            "4 Not Divisible by 3\n",
            "5 Not Divisible by 3\n",
            "6 Divisible by 3\n",
            "7 Not Divisible by 3\n",
            "8 Not Divisible by 3\n",
            "9 Divisible by 3\n",
            "10 Not Divisible by 3\n",
            "11 Not Divisible by 3\n",
            "12 Divisible by 3\n",
            "13 Not Divisible by 3\n",
            "14 Not Divisible by 3\n",
            "15 Divisible by 3\n",
            "16 Not Divisible by 3\n",
            "17 Not Divisible by 3\n",
            "18 Divisible by 3\n",
            "19 Not Divisible by 3\n",
            "20 Not Divisible by 3\n",
            "21 Divisible by 3\n",
            "22 Not Divisible by 3\n",
            "23 Not Divisible by 3\n",
            "24 Divisible by 3\n",
            "25 Not Divisible by 3\n"
          ]
        }
      ]
    },
    {
      "cell_type": "markdown",
      "source": [
        "# Q7. What do you understand about mutable and immutable data types? Give examples for both showing this property.\n",
        "\n",
        "Ans ▶"
      ],
      "metadata": {
        "id": "ju-LQRN2Tp_2"
      }
    },
    {
      "cell_type": "markdown",
      "source": [
        "Mutable and Immutable are two different properties of data types.\n",
        "Mutable data types are those that can be modified after they are created,\n",
        "while immutable data types cannot be modified once they are created.\n",
        "\n",
        "Mutable = List , Dictionary.\n",
        "\n",
        "Immutable = String, Tuple"
      ],
      "metadata": {
        "id": "1L36nksjXTfP"
      }
    },
    {
      "cell_type": "markdown",
      "source": [
        "# **Mutable**\n",
        "List"
      ],
      "metadata": {
        "id": "42OpWLVqZMdM"
      }
    },
    {
      "cell_type": "code",
      "source": [
        "my_list = [1, 2, 3, 4, 5]\n",
        "my_list.append(6)\n",
        "my_list[2] = 10\n",
        "print(my_list)"
      ],
      "metadata": {
        "colab": {
          "base_uri": "https://localhost:8080/"
        },
        "id": "HQXLgXipZVjB",
        "outputId": "5037fd23-8f8d-48f5-9f21-9d5f3b23210f"
      },
      "execution_count": 9,
      "outputs": [
        {
          "output_type": "stream",
          "name": "stdout",
          "text": [
            "[1, 2, 10, 4, 5, 6]\n"
          ]
        }
      ]
    },
    {
      "cell_type": "markdown",
      "source": [
        "Dictionary"
      ],
      "metadata": {
        "id": "-jxJYFPOZbX_"
      }
    },
    {
      "cell_type": "code",
      "source": [
        "my_dict = {\"name\": \"John\", \"age\": 25}\n",
        "my_dict[\"age\"] = 26\n",
        "my_dict[\"gender\"] = \"male\"\n",
        "print(my_dict)"
      ],
      "metadata": {
        "colab": {
          "base_uri": "https://localhost:8080/"
        },
        "id": "vRlv3YxEZdDV",
        "outputId": "70b717cb-e092-498e-e028-c08f91fef047"
      },
      "execution_count": 10,
      "outputs": [
        {
          "output_type": "stream",
          "name": "stdout",
          "text": [
            "{'name': 'John', 'age': 26, 'gender': 'male'}\n"
          ]
        }
      ]
    },
    {
      "cell_type": "markdown",
      "source": [
        "# **Immutable**\n",
        "Stings"
      ],
      "metadata": {
        "id": "wAygE0XGZjzs"
      }
    },
    {
      "cell_type": "code",
      "source": [
        "my_str = \"Hello, world!\"\n",
        "#my_str[0] = \"h\" #it will output a error"
      ],
      "metadata": {
        "id": "0Rmvgiz_Zg38"
      },
      "execution_count": 13,
      "outputs": []
    },
    {
      "cell_type": "markdown",
      "source": [
        "tuple"
      ],
      "metadata": {
        "id": "gKWdfaP6Z7Pz"
      }
    },
    {
      "cell_type": "code",
      "source": [
        "my_tuple = (1, 2, 3, 4, 5)\n",
        "#my_tuple[2] = 10 #it will output a error"
      ],
      "metadata": {
        "id": "uztRmrcfZ9TO"
      },
      "execution_count": 15,
      "outputs": []
    },
    {
      "cell_type": "markdown",
      "source": [
        "---\n",
        "# ***THE END***\n",
        "---"
      ],
      "metadata": {
        "id": "BhHLWeGQcEmx"
      }
    }
  ]
}