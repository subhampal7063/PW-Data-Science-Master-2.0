{
  "nbformat": 4,
  "nbformat_minor": 0,
  "metadata": {
    "colab": {
      "provenance": []
    },
    "kernelspec": {
      "name": "python3",
      "display_name": "Python 3"
    },
    "language_info": {
      "name": "python"
    }
  },
  "cells": [
    {
      "cell_type": "markdown",
      "source": [
        "# Q1. What is multiprocessing in python? Why is it useful?\n",
        "**********************\n",
        "Ans :\n",
        "Ability of system to run/execute multiple process simultaneously. it enable smaller thread run independently\n",
        "so process run parallel\n",
        "Multiprocessing helps in increasing overall Performance & efficiency\n"
      ],
      "metadata": {
        "id": "QnHRKJMIC6nb"
      }
    },
    {
      "cell_type": "markdown",
      "source": [
        "# Q2. What are the differences between multiprocessing and multithreading?\n",
        "**********************\n",
        "Ans:\n",
        "Multiprocessing involves multiple process running at once whereas in multithreading single process/thread executing at time\n",
        "\n",
        "In Multithreading all threads share same memory and processor which makes data sharing & communication easy\n",
        "while multiprocessing multiple process runs in parallel\n",
        "\n",
        "As Multiprocessing usage multiprocess it improve overall performace and efficiency while\n",
        "multithreading share space soo needs lesser computing and lesser space\n",
        "\n",
        "Creating multiprocess a bit difficult than multiple threads\n",
        "\n",
        "To boost multiprocessing adding CPU helps but not in multithreading"
      ],
      "metadata": {
        "id": "_uMSJOiPDGTm"
      }
    },
    {
      "cell_type": "markdown",
      "source": [
        "# Q3. Write a python code to create a process using the multiprocessing module."
      ],
      "metadata": {
        "id": "VA_as1aJDhlv"
      }
    },
    {
      "cell_type": "code",
      "source": [
        "import multiprocessing\n",
        "import time\n",
        "\n",
        "#twice fx call and twice 1 second sleep but total execution time is somewhere around 1 second\n",
        "# just because of processing\n",
        "\n",
        "start = time.perf_counter()\n",
        "def do_something():\n",
        "    print(\"Sleeping for 1 second....\")\n",
        "    time.sleep(1)\n",
        "    print(\"Sleeping Done\")\n",
        "\n",
        "p1 = multiprocessing.Process(target=do_something)\n",
        "p2 = multiprocessing.Process(target= do_something)\n",
        "\n",
        "p1.start()\n",
        "p2.start()\n",
        "\n",
        "# p1.join()\n",
        "# p2.join()\n",
        "\n",
        "finish = time.perf_counter()\n",
        "\n",
        "print(f\"Finished in {round(finish-start,2)} seconds\")\n",
        "# this print stmt run earlier than our thread just because as thread sleep our main started executing\n",
        "# print to stop this use p1.join() and p2.join() after starting thread"
      ],
      "metadata": {
        "colab": {
          "base_uri": "https://localhost:8080/"
        },
        "id": "xK1b47hoDnWk",
        "outputId": "23d8f934-9e81-42f3-fc89-b3dd0f7a3ecf"
      },
      "execution_count": 1,
      "outputs": [
        {
          "output_type": "stream",
          "name": "stdout",
          "text": [
            "Finished in 0.02 seconds\n",
            "Sleeping for 1 second....Sleeping for 1 second....\n",
            "\n"
          ]
        }
      ]
    },
    {
      "cell_type": "markdown",
      "source": [
        "#Q4. What is a multiprocessing pool in python? Why is it used?\n",
        "*******************************\n",
        "Ans : Multithreading pool controls a pool of worker processes to which jobs can be submitted.\n",
        "Pool did management of process it initialize how many process to be works in parallel and\n",
        "distribute the task among these available process\n",
        "\n",
        "We can reuse Pool as this class is regardless of target ie function so we can use with multiple target\n",
        "as we want to use in pool it allows also Pool allows executing muliple task or multitasking as\n",
        "map() , imap() method execting main thread can do other task"
      ],
      "metadata": {
        "id": "FfagkJg1DwWu"
      }
    },
    {
      "cell_type": "markdown",
      "source": [
        "#Q5. How can we create a pool of worker processes in python using the multiprocessing module?"
      ],
      "metadata": {
        "id": "klGyq0utD8RL"
      }
    },
    {
      "cell_type": "code",
      "source": [
        "from multiprocessing import Pool\n",
        "\n",
        "\n",
        "def f(x):\n",
        "    return x*x\n",
        "\n",
        "if __name__ == '__main__':\n",
        "    with Pool(processes=4) as pool:\n",
        "        #gave a list with square value from 1 to 10\n",
        "        print(pool.map(f, range(10)))\n",
        "\n",
        "        # unordered result of above list\n",
        "        for i in pool.imap_unordered(f, range(10)):\n",
        "            print(i)\n",
        "\n",
        "        # evaluate \"f(20)\" asynchronously\n",
        "        res = pool.apply_async(f, (20,))\n",
        "        print(res.get(timeout=1))\n",
        "\n",
        "    print(\"Now pool is no longer available\")"
      ],
      "metadata": {
        "colab": {
          "base_uri": "https://localhost:8080/"
        },
        "id": "EB6JfejiEE63",
        "outputId": "de3de63f-8f09-4232-b868-2503e3305c10"
      },
      "execution_count": 2,
      "outputs": [
        {
          "output_type": "stream",
          "name": "stdout",
          "text": [
            "[0, 1, 4, 9, 16, 25, 36, 49, 64, 81]\n",
            "0\n",
            "1\n",
            "4\n",
            "9\n",
            "16\n",
            "25\n",
            "36\n",
            "49\n",
            "64\n",
            "81\n",
            "400\n",
            "Now pool is no longer available\n"
          ]
        }
      ]
    },
    {
      "cell_type": "markdown",
      "source": [
        "#Q6. Write a python program to create 4 processes, each process should print a different number using the multiprocessing module in python."
      ],
      "metadata": {
        "id": "EI-bYVrkELNb"
      }
    },
    {
      "cell_type": "code",
      "source": [
        "from multiprocessing import *\n",
        "import time\n",
        "\n",
        "start = time.perf_counter()\n",
        "def print_number(num):\n",
        "    print(f\"Process {num}: {num}\")\n",
        "\n",
        "if __name__ == '__main__':\n",
        "    processes = []\n",
        "    for i in range(4):\n",
        "        process = Process(target=print_number, args=(i,))\n",
        "        processes.append(process)\n",
        "        process.start()\n",
        "\n",
        "    for process in processes:\n",
        "        process.join()\n",
        "\n",
        "    finish = time.perf_counter()\n",
        "\n",
        "    print(f\"Process finished in {round(finish-start,2)} seconds\")"
      ],
      "metadata": {
        "colab": {
          "base_uri": "https://localhost:8080/"
        },
        "id": "Ov3-w3DXESH5",
        "outputId": "1de37b29-ba9a-471f-908d-7e5bead912f5"
      },
      "execution_count": 3,
      "outputs": [
        {
          "output_type": "stream",
          "name": "stdout",
          "text": [
            "Process 0: 0Process 1: 1Process 2: 2\n",
            "\n",
            "\n",
            "Process 3: 3\n",
            "Process finished in 0.06 seconds\n"
          ]
        }
      ]
    },
    {
      "cell_type": "markdown",
      "source": [
        "#  ***THE END***"
      ],
      "metadata": {
        "id": "Ei8Md_VHEVQC"
      }
    }
  ]
}